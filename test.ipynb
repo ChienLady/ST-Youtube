{
 "cells": [
  {
   "cell_type": "code",
   "execution_count": 2,
   "metadata": {},
   "outputs": [],
   "source": [
    "from pytube import YouTube\n",
    "\n",
    "mp3 = True\n",
    "yt = YouTube(\"https://www.youtube.com/watch?v=yLGC8yRa39Q\")\n",
    "if mp3:\n",
    "    video = yt.streams.filter(only_audio=True).first()\n",
    "else:\n",
    "    video = yt.streams.get_by_resolution(\"720p\")\n",
    "out_file = video.download(output_path=\".\")\n",
    "new_file = \"m.mp4\"\n",
    "if mp3:\n",
    "    new_file = \"m.mp3\""
   ]
  }
 ],
 "metadata": {
  "kernelspec": {
   "display_name": "default",
   "language": "python",
   "name": "python3"
  },
  "language_info": {
   "codemirror_mode": {
    "name": "ipython",
    "version": 3
   },
   "file_extension": ".py",
   "mimetype": "text/x-python",
   "name": "python",
   "nbconvert_exporter": "python",
   "pygments_lexer": "ipython3",
   "version": "3.10.11"
  },
  "orig_nbformat": 4
 },
 "nbformat": 4,
 "nbformat_minor": 2
}
